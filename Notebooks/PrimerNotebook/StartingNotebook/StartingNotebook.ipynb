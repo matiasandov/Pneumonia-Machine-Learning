{
  "cells": [
    {
      "cell_type": "code",
      "execution_count": null,
      "metadata": {
        "id": "eZxrIDLfPc4P"
      },
      "outputs": [],
      "source": [
        "!pip install -q kaggle "
      ]
    },
    {
      "cell_type": "code",
      "execution_count": null,
      "metadata": {
        "id": "VzOLAIQWPc4Q"
      },
      "outputs": [],
      "source": [
        "!mkdir ~/.kaggle "
      ]
    },
    {
      "cell_type": "code",
      "execution_count": null,
      "metadata": {
        "id": "hwHTwDoqPc4R"
      },
      "outputs": [],
      "source": [
        "!touch ~/.kaggle/kaggle.json"
      ]
    },
    {
      "cell_type": "code",
      "execution_count": null,
      "metadata": {
        "id": "oSh7TVc2Pc4R"
      },
      "outputs": [],
      "source": [
        "api_token = {\"username\":\"\",\"key\":\"\"}"
      ]
    },
    {
      "cell_type": "code",
      "execution_count": null,
      "metadata": {
        "id": "0zWPvmoSPc4S"
      },
      "outputs": [],
      "source": [
        "import json \n",
        "\n",
        "with open('/root/.kaggle/kaggle.json','w') as file:\n",
        "    json.dump(api_token,file)"
      ]
    },
    {
      "cell_type": "code",
      "execution_count": null,
      "metadata": {
        "id": "9-7CLRbFPc4S"
      },
      "outputs": [],
      "source": [
        "!chmod 600 ~/.kaggle/kaggle.json"
      ]
    },
    {
      "cell_type": "code",
      "execution_count": null,
      "metadata": {
        "id": "pkX1ACGGPc4S"
      },
      "outputs": [],
      "source": [
        "!kaggle datasets download -d paultimothymooney/chest-xray-pneumonia --force"
      ]
    },
    {
      "cell_type": "code",
      "execution_count": null,
      "metadata": {
        "id": "9s-IkZRxPc4T"
      },
      "outputs": [],
      "source": [
        "import zipfile\n",
        "with zipfile.ZipFile('./chest-xray-pneumonia.zip', 'r') as zip_ref:\n",
        "    zip_ref.extractall('./data')"
      ]
    },
    {
      "cell_type": "code",
      "execution_count": null,
      "metadata": {
        "id": "kcIwIdWxPc4T"
      },
      "outputs": [],
      "source": [
        "import glob\n",
        "import random\n",
        "import matplotlib.pyplot as plt\n",
        "\n",
        "\n",
        "\n",
        "def get_random_image(dir,condition):\n",
        "    placeholder=''\n",
        "    if condition == 'n':\n",
        "        placeholder='NORMAL'\n",
        "    elif condition == 'p':\n",
        "        placeholder='PNEUMONIA'\n",
        "    else:\n",
        "        raise Exception(\"Sorry, invalid condition\")\n",
        "    folder=f'./data/chest_xray/{dir}/{placeholder}/*.jpeg'\n",
        "    img_paths=glob.glob(folder)\n",
        "    max_length=len(img_paths)\n",
        "    randomNumber=random.randint(0,max_length)\n",
        "    for index, item in enumerate(img_paths, start=1):\n",
        "        if index == randomNumber:\n",
        "            print(index,item)\n",
        "            image = plt.imread(item)\n",
        "            readyImage=plt.imshow(image)\n",
        "            return readyImage\n",
        "\n"
      ]
    },
    {
      "cell_type": "code",
      "execution_count": null,
      "metadata": {
        "id": "jvBqeeqEPc4T"
      },
      "outputs": [],
      "source": [
        "get_random_image(\"val\",\"n\")"
      ]
    },
    {
      "cell_type": "code",
      "execution_count": null,
      "metadata": {
        "id": "xEybA2fKPc4U"
      },
      "outputs": [],
      "source": [
        "from PIL import Image\n",
        "\n",
        "\n",
        "image = Image.open('')  \n",
        "print(image.format)\n",
        "print(image.size)\n",
        "print(image.mode)"
      ]
    },
    {
      "cell_type": "code",
      "execution_count": null,
      "metadata": {
        "id": "56xJMZpYPc4U"
      },
      "outputs": [],
      "source": [
        "import PIL.Image\n",
        "\n",
        "rgba_image=PIL.Image.open('')\n",
        "rgb_image=rgba_image.convert('RGB')"
      ]
    },
    {
      "cell_type": "code",
      "execution_count": null,
      "metadata": {
        "id": "qIMiuh0lPc4U"
      },
      "outputs": [],
      "source": [
        "import matplotlib.pyplot as plt\n",
        "import matplotlib.image as mpimg\n",
        "img = mpimg.imread('')\n",
        "imgplot = plt.imshow(img)\n",
        "plt.show()"
      ]
    },
    {
      "cell_type": "code",
      "execution_count": null,
      "metadata": {
        "id": "vM3fHDH_Pc4V"
      },
      "outputs": [],
      "source": [
        "import glob\n",
        "import matplotlib.pyplot as plt\n",
        "from PIL import Image\n",
        "\n",
        "folder=f'./data/chest_xray/train/*/*.jpeg'\n",
        "\n",
        "counterPneu=0\n",
        "counterNormal=0\n",
        "\n",
        "img_paths=glob.glob(folder)\n",
        "\n",
        "for i in img_paths:\n",
        "    if \"person\" in i:\n",
        "        full_size_image=Image.open(i)\n",
        "        im=full_size_image.resize((224,224))\n",
        "        plt.imsave(fname='./data/chest_xray/train' + '/train_pneumonia' + str(counterPneu)+'.jpeg',arr=im,format='jpeg',cmap='gray')\n",
        "        counterPneu+=1\n",
        "    else:\n",
        "        full_size_image=Image.open(i)\n",
        "        im=full_size_image.resize((224,224))\n",
        "        plt.imsave(fname='./data/chest_xray/train' + '/train_normal' + str(counterNormal)+'.jpeg',arr=im,format='jpeg',cmap='gray')\n",
        "        counterNormal+=1\n",
        "        "
      ]
    },
    {
      "cell_type": "code",
      "execution_count": null,
      "metadata": {
        "id": "hA0UklFGPc4V"
      },
      "outputs": [],
      "source": [
        "import glob\n",
        "import matplotlib.pyplot as plt\n",
        "from PIL import Image\n",
        "\n",
        "folder=f'./data/chest_xray/test/*/*.jpeg'\n",
        "\n",
        "counterPneu=0\n",
        "counterNormal=0\n",
        "\n",
        "img_paths=glob.glob(folder)\n",
        "\n",
        "for i in img_paths:\n",
        "    if \"person\" in i:\n",
        "        full_size_image=Image.open(i)\n",
        "        im=full_size_image.resize((224,224))\n",
        "        plt.imsave(fname='./data/chest_xray/test' + '/test_pneumonia' + str(counterPneu)+'.jpeg',arr=im,format='jpeg',cmap='gray')\n",
        "        counterPneu+=1\n",
        "    else:\n",
        "        full_size_image=Image.open(i)\n",
        "        im=full_size_image.resize((224,224))\n",
        "        plt.imsave(fname='./data/chest_xray/test' + '/test_normal' + str(counterNormal)+'.jpeg',arr=im,format='jpeg',cmap='gray')\n",
        "        counterNormal+=1\n",
        "        "
      ]
    },
    {
      "cell_type": "code",
      "execution_count": null,
      "metadata": {
        "id": "42oPQHTgPc4W"
      },
      "outputs": [],
      "source": [
        "import glob\n",
        "import matplotlib.pyplot as plt\n",
        "from PIL import Image\n",
        "\n",
        "folder=f'./data/chest_xray/val/*/*.jpeg'\n",
        "\n",
        "counterPneu=0\n",
        "counterNormal=0\n",
        "\n",
        "img_paths=glob.glob(folder)\n",
        "\n",
        "for i in img_paths:\n",
        "    if \"person\" in i:\n",
        "        full_size_image=Image.open(i)\n",
        "        im=full_size_image.resize((224,224))\n",
        "        plt.imsave(fname='./data/chest_xray/val' + '/val_pneumonia' + str(counterPneu)+'.jpeg',arr=im,format='jpeg',cmap='gray')\n",
        "        counterPneu+=1\n",
        "    else:\n",
        "        full_size_image=Image.open(i)\n",
        "        im=full_size_image.resize((224,224))\n",
        "        plt.imsave(fname='./data/chest_xray/val' + '/val_normal' + str(counterNormal)+'.jpeg',arr=im,format='jpeg',cmap='gray')\n",
        "        counterNormal+=1\n",
        "        "
      ]
    },
    {
      "cell_type": "code",
      "execution_count": null,
      "metadata": {
        "id": "UPHVdVulPc4W"
      },
      "outputs": [],
      "source": [
        "import glob\n",
        "import pandas as pd\n",
        "\n",
        "folder=f'./data/chest_xray/*/*.jpeg'\n",
        "\n",
        "category=[]\n",
        "filenames=[]\n",
        "condition_of_lung=[]\n",
        "\n",
        "all_files=glob.glob(folder)\n",
        "\n",
        "for filename in all_files:\n",
        "    if \"train\" in filename:\n",
        "        if \"pneumonia\" in filename:\n",
        "            category.append(\"train\")\n",
        "            filenames.append(filename)\n",
        "            condition_of_lung.append(\"pneumonia\")\n",
        "        elif \"normal\" in filename:\n",
        "            category.append(\"train\")\n",
        "            filenames.append(filename)\n",
        "            condition_of_lung.append(\"normal\")\n",
        "    elif \"test\" in filename:\n",
        "        if \"pneumonia\" in filename:\n",
        "            category.append(\"test\")\n",
        "            filenames.append(filename)\n",
        "            condition_of_lung.append(\"pneumonia\")\n",
        "        elif \"normal\" in filename:\n",
        "            category.append(\"test\")\n",
        "            filenames.append(filename)\n",
        "            condition_of_lung.append(\"normal\")\n",
        "    elif \"val\" in filename:\n",
        "        if \"pneumonia\" in filename:\n",
        "            category.append(\"val\")\n",
        "            filenames.append(filename)\n",
        "            condition_of_lung.append(\"pneumonia\")\n",
        "        elif \"normal\" in filename:\n",
        "            category.append(\"val\")\n",
        "            filenames.append(filename)\n",
        "            condition_of_lung.append(\"normal\")\n",
        "\n",
        "all_data_df=pd.DataFrame({\"dataset type\":category,\"x-ray result\":condition_of_lung,\"filename\":filenames})\n",
        "\n",
        "print(all_data_df.head())\n",
        "            \n",
        "        \n",
        "        \n",
        "    "
      ]
    },
    {
      "cell_type": "code",
      "execution_count": null,
      "metadata": {
        "id": "aNg6Qou7Pc4X"
      },
      "outputs": [],
      "source": [
        "import seaborn as sns\n",
        "\n",
        "g=sns.catplot(x=\"x-ray result\",col=\"dataset type\",kind=\"count\",palette=\"ch:.55\",data=all_data_df,legend=True)\n",
        "\n",
        "for i in range(0,3):\n",
        "    ax=g.facet_axis(0,i)\n",
        "    for p in ax.patches:\n",
        "        ax.text(p.get_x()+0.3,\n",
        "        p.get_height()*1.05,\n",
        "        '{0:.0f}'.format(p.get_height()),\n",
        "        color='black',\n",
        "        rotation='horizontal',\n",
        "        size='large')\n",
        "\n"
      ]
    },
    {
      "cell_type": "code",
      "execution_count": null,
      "metadata": {
        "id": "YoE1gkzZPc4X"
      },
      "outputs": [],
      "source": [
        "import glob\n",
        "import pandas as pd\n",
        "import os\n",
        "train_folder='./data/chest_xray/train/*.jpeg'\n",
        "train_df_lst=pd.DataFrame(columns=['labels','s3_path'],dtype=object)\n",
        "train_imgs_path=glob.glob(train_folder)\n",
        "counter=0\n",
        "class_arg=''\n",
        "\n",
        "for i in train_imgs_path:\n",
        "    if \"pneumonia\" in i:\n",
        "        class_arg=1\n",
        "    else:\n",
        "        class_arg=0\n",
        "    train_df_lst.loc[counter]=[class_arg,os.path.basename(i)]\n",
        "    counter+=1\n",
        "print(train_df_lst.head())"
      ]
    },
    {
      "cell_type": "code",
      "execution_count": null,
      "metadata": {
        "id": "uEHa60P9Pc4Y"
      },
      "outputs": [],
      "source": [
        "import glob\n",
        "import pandas as pd\n",
        "import os\n",
        "test_folder='./data/chest_xray/test/*.jpeg'\n",
        "test_df_lst=pd.DataFrame(columns=['labels','s3_path'],dtype=object)\n",
        "test_imgs_path=glob.glob(test_folder)\n",
        "counter=0\n",
        "class_arg=''\n",
        "\n",
        "for i in test_imgs_path:\n",
        "    if \"pneumonia\" in i:\n",
        "        class_arg=1\n",
        "    else:\n",
        "        class_arg=0\n",
        "    test_df_lst.loc[counter]=[class_arg,os.path.basename(i)]\n",
        "    counter+=1\n",
        "print(test_df_lst.head())"
      ]
    },
    {
      "cell_type": "code",
      "execution_count": null,
      "metadata": {
        "id": "VIB8r7GuPc4Y"
      },
      "outputs": [],
      "source": [
        "def save_to_lst(df,prefix):\n",
        "    return df[[\"labels\",\"s3_path\"]].to_csv(\n",
        "    f\"{prefix}.lst\", sep='\\t',index=True,header=False\n",
        "    )\n",
        "\n",
        "save_to_lst(train_df_lst.copy(),\"train\")\n",
        "save_to_lst(test_df_lst.copy(),\"test\")"
      ]
    },
    {
      "cell_type": "code",
      "execution_count": null,
      "metadata": {
        "id": "23ThEYP5Pc4Z"
      },
      "outputs": [],
      "source": [
        "bucket='medical-ai-chest-xray'\n",
        "print(\"bucket:{}\".format(bucket))\n",
        "region='eu-central-1'\n",
        "print(\"region:{}\".format(region))\n",
        "roleArn='arn:aws:s3:::medical-ai-chest-xray'\n",
        "print(\"roleArn:{}\".format(roleArn))\n"
      ]
    },
    {
      "cell_type": "code",
      "execution_count": null,
      "metadata": {
        "id": "VtU5XtbSPc4Z"
      },
      "outputs": [],
      "source": [
        "import os\n",
        "\n",
        "os.environ[\"DEFAULT_S3_BUCKET\"]=bucket\n"
      ]
    },
    {
      "cell_type": "code",
      "execution_count": null,
      "metadata": {
        "id": "ub0wZ4hfPc4Z"
      },
      "outputs": [],
      "source": [
        "!aws s3 sync ./data/chest_xray/train s3://${DEFAULT_S3_BUCKET}/train/"
      ]
    },
    {
      "cell_type": "code",
      "execution_count": null,
      "metadata": {
        "id": "qobyXknEPc4Z"
      },
      "outputs": [],
      "source": [
        "!aws s3 sync ./data/chest_xray/test s3://${DEFAULT_S3_BUCKET}/test/"
      ]
    },
    {
      "cell_type": "code",
      "execution_count": null,
      "metadata": {
        "id": "9AWxZWsaPc4a"
      },
      "outputs": [],
      "source": [
        "import boto3\n",
        "\n",
        "boto3.Session().resource('s3').Bucket(bucket).Object(\"train.lst\").upload_file('./train.lst')"
      ]
    },
    {
      "cell_type": "code",
      "execution_count": null,
      "metadata": {
        "id": "U9S-3wI_Pc4a"
      },
      "outputs": [],
      "source": [
        "boto3.Session().resource('s3').Bucket(bucket).Object(\"test.lst\").upload_file('./test.lst')"
      ]
    },
    {
      "cell_type": "code",
      "execution_count": null,
      "metadata": {
        "id": "5PwfOtyGPc4a"
      },
      "outputs": [],
      "source": [
        "bucket=''\n",
        "print(\"bucket:{}\".format(bucket))\n",
        "region=''\n",
        "print(\"region:{}\".format(region))\n",
        "roleArn=''\n",
        "print(\"roleArn:{}\".format(roleArn))\n"
      ]
    },
    {
      "cell_type": "code",
      "execution_count": null,
      "metadata": {
        "id": "ApGU1cx0Pc4a"
      },
      "outputs": [],
      "source": [
        "import sagemaker\n",
        "from sagemaker import image_uris\n",
        "import boto3\n",
        "from sagemaker import get_execution_role\n",
        "sess=sagemaker.Session()\n",
        "\n",
        "algorithm_image=image_uris.retrieve(\n",
        "    region=boto3.Session().region_name,\n",
        "    framework=\"image-classification\"\n",
        ")\n",
        "\n",
        "s3_output_location=f\"s3://{bucket}/models/image_model\"\n",
        "print(algorithm_image)"
      ]
    },
    {
      "cell_type": "code",
      "execution_count": null,
      "metadata": {
        "id": "RmBquZb1Pc4a"
      },
      "outputs": [],
      "source": [
        "role=get_execution_role()\n",
        "print(role)"
      ]
    },
    {
      "cell_type": "code",
      "execution_count": null,
      "metadata": {
        "id": "nUzmpYUaPc4b"
      },
      "outputs": [],
      "source": [
        "import sagemaker\n",
        "img_classifier_model=sagemaker.estimator.Estimator(\n",
        "    algorithm_image,\n",
        "    role=role,\n",
        "    instance_count=1,\n",
        "    instance_type=\"ml.p2.xlarge\",\n",
        "    volume_size=50,\n",
        "    max_run=432000,\n",
        "    input_mode=\"File\",\n",
        "    output_path=s3_output_location,\n",
        "    sagemaker_session=sess\n",
        ")\n",
        "print(img_classifier_model)"
      ]
    },
    {
      "cell_type": "code",
      "execution_count": null,
      "metadata": {
        "id": "T2_JRzRbPc4b"
      },
      "outputs": [],
      "source": [
        "import glob \n",
        "count=0\n",
        "\n",
        "for filepath in glob.glob('./data/chest_xray/train/*.jpeg'):\n",
        "    count+=1\n",
        "print(count)"
      ]
    },
    {
      "cell_type": "code",
      "execution_count": null,
      "metadata": {
        "id": "lx2FOoFIPc4b"
      },
      "outputs": [],
      "source": [
        "count=5216"
      ]
    },
    {
      "cell_type": "code",
      "execution_count": null,
      "metadata": {
        "id": "raTMpalqPc4b"
      },
      "outputs": [],
      "source": [
        "img_classifier_model.set_hyperparameters(\n",
        "image_shape='3,224,224',\n",
        "num_classes=2,\n",
        "use_pretrained_model=1,\n",
        "num_training_samples=count,\n",
        "augmentation_type='crop_color_transform',\n",
        "epochs=15,\n",
        "early_stopping=True,\n",
        "early_stopping_min_epochs=8,\n",
        "early_stopping_tolerance=0.0,\n",
        "early_stopping_patience=5,\n",
        "lr_scheduler_factor=0.1,\n",
        "lr_scheduler_step='8,10,12')"
      ]
    },
    {
      "cell_type": "code",
      "execution_count": null,
      "metadata": {
        "id": "Gap-7JnkPc4b"
      },
      "outputs": [],
      "source": [
        "from sagemaker.tuner import CategoricalParameter,ContinuousParameter,HyperparameterTuner\n",
        "\n",
        "hyperparameter_ranges={\n",
        "    \"learning_rate\":ContinuousParameter(0.01,0.1),\n",
        "    \"mini_batch_size\":CategoricalParameter([8,16,32]),\n",
        "    \"optimizer\":CategoricalParameter([\"sgd\",\"adam\"])\n",
        "}"
      ]
    },
    {
      "cell_type": "code",
      "execution_count": null,
      "metadata": {
        "id": "K0elw54JPc4c"
      },
      "outputs": [],
      "source": [
        "objective_metric_name=\"validation:accuracy\"\n",
        "objective_type=\"Maximize\"\n",
        "max_jobs=5\n",
        "max_parallel_jobs=1"
      ]
    },
    {
      "cell_type": "code",
      "execution_count": null,
      "metadata": {
        "id": "kbmfXpw8Pc4c"
      },
      "outputs": [],
      "source": [
        "tuner=HyperparameterTuner(estimator=img_classifier_model,\n",
        "                         objective_metric_name=objective_metric_name,\n",
        "                         hyperparameter_ranges=hyperparameter_ranges,\n",
        "                         objective_type=objective_type,\n",
        "                         max_jobs=max_jobs,\n",
        "                         max_parallel_jobs=max_parallel_jobs  \n",
        "                         )"
      ]
    },
    {
      "cell_type": "code",
      "execution_count": null,
      "metadata": {
        "id": "CLT4x3RoPc4c"
      },
      "outputs": [],
      "source": [
        "from sagemaker.session import TrainingInput\n",
        "\n",
        "model_inputs={\n",
        "    \"train\":sagemaker.inputs.TrainingInput(s3_data=f\"s3://{bucket}/train/\",content_type=\"application/x-image\"),\n",
        "    \"validation\":sagemaker.inputs.TrainingInput(s3_data=f\"s3://{bucket}/test/\",content_type=\"application/x-image\"),\n",
        "    \"train_lst\":sagemaker.inputs.TrainingInput(s3_data=f\"s3://{bucket}/train.lst\",content_type=\"application/x-image\"),\n",
        "    \"validation_lst\":sagemaker.inputs.TrainingInput(s3_data=f\"s3://{bucket}/test.lst\",content_type=\"application/x-image\"),\n",
        "}"
      ]
    },
    {
      "cell_type": "code",
      "execution_count": null,
      "metadata": {
        "id": "6Wz-8W5iPc4c"
      },
      "outputs": [],
      "source": [
        "import time \n",
        "job_name_prefix=\"classifier\"\n",
        "timestamp=time.strftime(\"-%Y-%m-%d-%H-%M-%S\",time.gmtime())\n",
        "job_name=job_name_prefix+timestamp"
      ]
    },
    {
      "cell_type": "code",
      "execution_count": null,
      "metadata": {
        "id": "Nh06IG7FPc4d"
      },
      "outputs": [],
      "source": [
        "tuner.fit(inputs=model_inputs,job_name=job_name,logs=True)"
      ]
    },
    {
      "cell_type": "code",
      "execution_count": null,
      "metadata": {
        "id": "H59ncYXFPc4d"
      },
      "outputs": [],
      "source": [
        "import sagemaker\n",
        "from sagemaker import get_execution_role"
      ]
    },
    {
      "cell_type": "code",
      "execution_count": null,
      "metadata": {
        "id": "16tZL5fFPc4d"
      },
      "outputs": [],
      "source": [
        "role=get_execution_role()"
      ]
    },
    {
      "cell_type": "code",
      "execution_count": null,
      "metadata": {
        "id": "nlICy6VyPc4d"
      },
      "outputs": [],
      "source": [
        "model=sagemaker.model.Model(\n",
        "image_uri=algorithm_image,\n",
        "model_data='',\n",
        "role=role)"
      ]
    },
    {
      "cell_type": "code",
      "execution_count": null,
      "metadata": {
        "id": "i0QBtteKPc4d"
      },
      "outputs": [],
      "source": [
        "endpoint_name=''\n",
        "\n",
        "deployment=model.deploy(\n",
        "initial_instance_count=1,\n",
        "instance_type='ml.m4.xlarge',\n",
        "endpoint_name=endpoint_name)"
      ]
    },
    {
      "cell_type": "markdown",
      "metadata": {},
      "source": []
    },
    {
      "cell_type": "code",
      "execution_count": null,
      "metadata": {
        "id": "SfEZRf53Pc4d"
      },
      "outputs": [],
      "source": [
        "from sagemaker.predictor import Predictor\n",
        "predictor=Predictor(\"\")"
      ]
    },
    {
      "cell_type": "code",
      "execution_count": null,
      "metadata": {
        "id": "9bm2ir-fPc4e"
      },
      "outputs": [],
      "source": [
        "from sagemaker.serializers import IdentitySerializer\n",
        "import base64\n",
        "\n",
        "file_name='data/chest_xray/val/val_pneumonia0.jpeg'\n",
        "\n",
        "predictor.serializer= IdentitySerializer(\"image/jpeg\")\n",
        "with open(file_name,\"rb\")as f:\n",
        "    payload=f.read()\n",
        "    \n",
        "inference=predictor.predict(data=payload)\n",
        "print(inference)\n"
      ]
    },
    {
      "cell_type": "code",
      "execution_count": null,
      "metadata": {
        "id": "dFBKOmLiPc4e"
      },
      "outputs": [],
      "source": [
        "print(inference[1])"
      ]
    },
    {
      "cell_type": "code",
      "execution_count": null,
      "metadata": {
        "id": "G75ZoY7hPc4e"
      },
      "outputs": [],
      "source": [
        "import glob\n",
        "import json\n",
        "import numpy as np\n",
        "file_path='data/chest_xray/val/*.jpeg'\n",
        "files=glob.glob(file_path)\n",
        "\n",
        "y_true=[]\n",
        "y_pred=[]\n",
        "\n",
        "def make_pred():\n",
        "    for file in files:\n",
        "        if \"normal\" in file:\n",
        "            with open(file,\"rb\") as f:\n",
        "                payload=f.read()\n",
        "                inference=predictor.predict(data=payload).decode(\"utf-8\")\n",
        "                result=json.loads(inference)\n",
        "                predicted_class=np.argmax(result)\n",
        "                y_true.append(0)\n",
        "                y_pred.append(predicted_class)\n",
        "        elif \"pneumonia\" in file:\n",
        "            with open(file,\"rb\") as f:\n",
        "                payload=f.read()\n",
        "                inference=predictor.predict(data=payload).decode(\"utf-8\")\n",
        "                result=json.loads(inference)\n",
        "                predicted_class=np.argmax(result)\n",
        "                y_true.append(1)\n",
        "                y_pred.append(predicted_class)\n",
        "\n",
        "make_pred()\n",
        "print(y_true)\n",
        "print(y_pred)"
      ]
    },
    {
      "cell_type": "code",
      "execution_count": null,
      "metadata": {
        "id": "p7EG5VhfPc4e"
      },
      "outputs": [],
      "source": [
        "from sklearn.metrics import confusion_matrix\n",
        "\n",
        "confusion_matrix(y_true,y_pred)"
      ]
    },
    {
      "cell_type": "code",
      "execution_count": null,
      "metadata": {
        "id": "NJcCT2bJPc4e"
      },
      "outputs": [],
      "source": [
        "from sklearn.metrics import classification_report\n",
        "print(classification_report(y_true,y_pred))"
      ]
    },
    {
      "cell_type": "code",
      "execution_count": null,
      "metadata": {
        "id": "lidgzZsePc4f"
      },
      "outputs": [],
      "source": []
    }
  ],
  "metadata": {
    "colab": {
      "name": "StarterNotebook.ipynb",
      "provenance": []
    },
    "instance_type": "ml.t3.medium",
    "kernelspec": {
      "display_name": "Python 3 (Data Science)",
      "language": "python",
      "name": "python3__SAGEMAKER_INTERNAL__arn:aws:sagemaker:eu-central-1:936697816551:image/datascience-1.0"
    },
    "language_info": {
      "codemirror_mode": {
        "name": "ipython",
        "version": 3
      },
      "file_extension": ".py",
      "mimetype": "text/x-python",
      "name": "python",
      "nbconvert_exporter": "python",
      "pygments_lexer": "ipython3",
      "version": "3.7.10"
    }
  },
  "nbformat": 4,
  "nbformat_minor": 0
}
